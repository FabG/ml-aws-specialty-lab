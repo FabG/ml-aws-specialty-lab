{
 "cells": [
  {
   "cell_type": "code",
   "execution_count": 1,
   "metadata": {},
   "outputs": [],
   "source": [
    "import sagemaker\n",
    "from sagemaker import get_execution_role\n",
    "import boto3\n",
    "import json\n",
    "\n",
    "my_session = sagemaker.Session()\n",
    "\n",
    "role = get_execution_role()\n",
    "\n",
    "s3 = boto3.resource('s3')\n",
    "bucket_name = 'machine-learning-exam'       # Change to your bucket\n",
    "prefix = 'language_identification/fasttext' # and prefix"
   ]
  },
  {
   "cell_type": "code",
   "execution_count": 2,
   "metadata": {},
   "outputs": [],
   "source": [
    "my_region_name = boto3.Session().region_name"
   ]
  },
  {
   "cell_type": "code",
   "execution_count": 3,
   "metadata": {},
   "outputs": [
    {
     "name": "stdout",
     "output_type": "stream",
     "text": [
      "Using SageMaker BlazingText container: 811284229777.dkr.ecr.us-east-1.amazonaws.com/blazingtext:latest (us-east-1)\n"
     ]
    }
   ],
   "source": [
    "blazing_text_container = sagemaker.amazon.amazon_estimator.get_image_uri(my_region_name, \"blazingtext\", \"latest\")\n",
    "print('Using SageMaker BlazingText container: {} ({})'.format(blazing_text_container, my_region_name))"
   ]
  },
  {
   "cell_type": "code",
   "execution_count": 4,
   "metadata": {},
   "outputs": [
    {
     "name": "stdout",
     "output_type": "stream",
     "text": [
      "--2020-02-26 00:59:24--  https://dl.fbaipublicfiles.com/fasttext/supervised-models/lid.176.bin\n",
      "Resolving dl.fbaipublicfiles.com (dl.fbaipublicfiles.com)... 104.20.6.166, 104.20.22.166, 2606:4700:10::6814:16a6, ...\n",
      "Connecting to dl.fbaipublicfiles.com (dl.fbaipublicfiles.com)|104.20.6.166|:443... connected.\n",
      "HTTP request sent, awaiting response... 200 OK\n",
      "Length: 131266198 (125M) [application/octet-stream]\n",
      "Saving to: ‘model.bin’\n",
      "\n",
      "model.bin           100%[===================>] 125.18M  26.0MB/s    in 5.5s    \n",
      "\n",
      "2020-02-26 00:59:30 (22.6 MB/s) - ‘model.bin’ saved [131266198/131266198]\n",
      "\n"
     ]
    }
   ],
   "source": [
    "!wget -O model.bin https://dl.fbaipublicfiles.com/fasttext/supervised-models/lid.176.bin"
   ]
  },
  {
   "cell_type": "code",
   "execution_count": 5,
   "metadata": {},
   "outputs": [
    {
     "name": "stdout",
     "output_type": "stream",
     "text": [
      "model.bin\r\n"
     ]
    }
   ],
   "source": [
    "!tar -czvf langid.tar.gz model.bin\n",
    "blazing_text_model_location = my_session.upload_data(\"langid.tar.gz\", bucket=bucket_name, key_prefix=prefix)\n",
    "!rm langid.tar.gz model.bin"
   ]
  },
  {
   "cell_type": "code",
   "execution_count": 6,
   "metadata": {},
   "outputs": [
    {
     "name": "stdout",
     "output_type": "stream",
     "text": [
      "-------------------!"
     ]
    }
   ],
   "source": [
    "language_identifier = sagemaker.Model(model_data=blazing_text_model_location, image=blazing_text_container, role=role, sagemaker_session=my_session)\n",
    "language_identifier.deploy(initial_instance_count = 1,instance_type = 'ml.m4.xlarge')\n",
    "language_identifier_predictor = sagemaker.RealTimePredictor(endpoint=language_identifier.endpoint_name, \n",
    "                                   sagemaker_session=my_session,\n",
    "                                   serializer=json.dumps,\n",
    "                                   deserializer=sagemaker.predictor.json_deserializer)"
   ]
  },
  {
   "cell_type": "code",
   "execution_count": 7,
   "metadata": {},
   "outputs": [],
   "source": [
    "some_language_examples = [\"À quoi sert l'intelligence artificielle\",\n",
    "             \"Was ist der Zweck der künstlichen Intelligenz?\",\n",
    "             \"Wat is die doel van kunsmatige intelligensie\",\n",
    "             \"ما هو الغرض من الذكاء الاصطناعي\",\n",
    "             \"Süni intellektin məqsədi nədir\",\n",
    "             \"Hvad er formålet med kunstig intelligens\"]\n",
    "prediction_input = {\"instances\" : some_language_examples}"
   ]
  },
  {
   "cell_type": "code",
   "execution_count": 9,
   "metadata": {},
   "outputs": [
    {
     "name": "stdout",
     "output_type": "stream",
     "text": [
      "[{'prob': [0.8571586608886719], 'label': ['__label__fr']}, {'prob': [0.9994584321975708], 'label': ['__label__de']}, {'prob': [0.465190052986145], 'label': ['__label__af']}, {'prob': [0.9983780980110168], 'label': ['__label__ar']}, {'prob': [0.9949907064437866], 'label': ['__label__az']}, {'prob': [0.864094614982605], 'label': ['__label__da']}]\n"
     ]
    }
   ],
   "source": [
    "language_predictions = language_identifier_predictor.predict(prediction_input)\n",
    "print(language_predictions)"
   ]
  },
  {
   "cell_type": "code",
   "execution_count": 10,
   "metadata": {},
   "outputs": [
    {
     "name": "stdout",
     "output_type": "stream",
     "text": [
      "[{'language': 'FR', 'probability': [0.8571586608886719]}, {'language': 'DE', 'probability': [0.9994584321975708]}, {'language': 'AF', 'probability': [0.465190052986145]}, {'language': 'AR', 'probability': [0.9983780980110168]}, {'language': 'AZ', 'probability': [0.9949907064437866]}, {'language': 'DA', 'probability': [0.864094614982605]}]\n"
     ]
    }
   ],
   "source": [
    "# Remove the '__label__' before each language identifier in the prediction output\n",
    "# and change the label and prob to more readable values\n",
    "for output in language_predictions:\n",
    "    output['label'] = output['label'][0][9:].upper() # remove __label__ preceding the language identifier\n",
    "    output['language'] = output.pop('label')         # make the labels \n",
    "    output['probability'] = output.pop('prob')       # readable\n",
    "\n",
    "print(language_predictions)"
   ]
  },
  {
   "cell_type": "code",
   "execution_count": null,
   "metadata": {},
   "outputs": [],
   "source": []
  }
 ],
 "metadata": {
  "kernelspec": {
   "display_name": "conda_python3",
   "language": "python",
   "name": "conda_python3"
  },
  "language_info": {
   "codemirror_mode": {
    "name": "ipython",
    "version": 3
   },
   "file_extension": ".py",
   "mimetype": "text/x-python",
   "name": "python",
   "nbconvert_exporter": "python",
   "pygments_lexer": "ipython3",
   "version": "3.6.5"
  }
 },
 "nbformat": 4,
 "nbformat_minor": 4
}
