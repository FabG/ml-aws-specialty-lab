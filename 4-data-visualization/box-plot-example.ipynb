{
 "cells": [
  {
   "cell_type": "code",
   "execution_count": 5,
   "metadata": {
    "scrolled": true
   },
   "outputs": [
    {
     "name": "stdout",
     "output_type": "stream",
     "text": [
      "Python 3.6.5 :: Anaconda custom (64-bit)\r\n"
     ]
    }
   ],
   "source": [
    "!python --version"
   ]
  },
  {
   "cell_type": "markdown",
   "metadata": {},
   "source": [
    "Importing the important libraries"
   ]
  },
  {
   "cell_type": "code",
   "execution_count": 6,
   "metadata": {},
   "outputs": [],
   "source": [
    "import boto3\n",
    "import pandas as pd\n",
    "from sagemaker import get_execution_role\n",
    "import numpy as np\n",
    "import matplotlib.pyplot as plt\n",
    "%matplotlib inline"
   ]
  },
  {
   "cell_type": "markdown",
   "metadata": {},
   "source": [
    "Getting the car data from S3"
   ]
  },
  {
   "cell_type": "code",
   "execution_count": 7,
   "metadata": {},
   "outputs": [
    {
     "name": "stdout",
     "output_type": "stream",
     "text": [
      "s3://car-data-analysis-acg/car_data.csv\n"
     ]
    }
   ],
   "source": [
    "role = get_execution_role()\n",
    "bucket='<YOUR_BUCKET_NAME_HERE>'\n",
    "data_key = 'car_data.csv'\n",
    "data_location = 's3://{}/{}'.format(bucket, data_key)\n",
    "print(data_location)"
   ]
  },
  {
   "cell_type": "code",
   "execution_count": 8,
   "metadata": {},
   "outputs": [],
   "source": [
    "df = pd.read_csv(data_location)"
   ]
  },
  {
   "cell_type": "code",
   "execution_count": 10,
   "metadata": {},
   "outputs": [
    {
     "data": {
      "text/html": [
       "<div>\n",
       "<style scoped>\n",
       "    .dataframe tbody tr th:only-of-type {\n",
       "        vertical-align: middle;\n",
       "    }\n",
       "\n",
       "    .dataframe tbody tr th {\n",
       "        vertical-align: top;\n",
       "    }\n",
       "\n",
       "    .dataframe thead th {\n",
       "        text-align: right;\n",
       "    }\n",
       "</style>\n",
       "<table border=\"1\" class=\"dataframe\">\n",
       "  <thead>\n",
       "    <tr style=\"text-align: right;\">\n",
       "      <th></th>\n",
       "      <th>car</th>\n",
       "      <th>year</th>\n",
       "      <th>engine_hp</th>\n",
       "      <th>avg_mpg</th>\n",
       "      <th>price</th>\n",
       "      <th>salesman</th>\n",
       "      <th>dealership</th>\n",
       "      <th>sold_date</th>\n",
       "      <th>sold_month</th>\n",
       "    </tr>\n",
       "  </thead>\n",
       "  <tbody>\n",
       "    <tr>\n",
       "      <th>0</th>\n",
       "      <td>Corvette</td>\n",
       "      <td>2011</td>\n",
       "      <td>335.0</td>\n",
       "      <td>22.5</td>\n",
       "      <td>46135</td>\n",
       "      <td>2</td>\n",
       "      <td>Big Bobs</td>\n",
       "      <td>2012-05-06</td>\n",
       "      <td>5</td>\n",
       "    </tr>\n",
       "    <tr>\n",
       "      <th>1</th>\n",
       "      <td>Corvette</td>\n",
       "      <td>2011</td>\n",
       "      <td>300.0</td>\n",
       "      <td>23.5</td>\n",
       "      <td>40650</td>\n",
       "      <td>2</td>\n",
       "      <td>Uptown Cars</td>\n",
       "      <td>2011-05-16</td>\n",
       "      <td>5</td>\n",
       "    </tr>\n",
       "    <tr>\n",
       "      <th>2</th>\n",
       "      <td>Corvette</td>\n",
       "      <td>2011</td>\n",
       "      <td>300.0</td>\n",
       "      <td>24.0</td>\n",
       "      <td>36350</td>\n",
       "      <td>2</td>\n",
       "      <td>Uptown Cars</td>\n",
       "      <td>2013-07-31</td>\n",
       "      <td>7</td>\n",
       "    </tr>\n",
       "    <tr>\n",
       "      <th>3</th>\n",
       "      <td>Corvette</td>\n",
       "      <td>2011</td>\n",
       "      <td>230.0</td>\n",
       "      <td>23.0</td>\n",
       "      <td>29450</td>\n",
       "      <td>2</td>\n",
       "      <td>Uptown Cars</td>\n",
       "      <td>2014-07-05</td>\n",
       "      <td>7</td>\n",
       "    </tr>\n",
       "    <tr>\n",
       "      <th>4</th>\n",
       "      <td>Corvette</td>\n",
       "      <td>2011</td>\n",
       "      <td>230.0</td>\n",
       "      <td>23.0</td>\n",
       "      <td>34500</td>\n",
       "      <td>2</td>\n",
       "      <td>Uptown Cars</td>\n",
       "      <td>2013-05-20</td>\n",
       "      <td>5</td>\n",
       "    </tr>\n",
       "  </tbody>\n",
       "</table>\n",
       "</div>"
      ],
      "text/plain": [
       "        car  year  engine_hp  avg_mpg  price  salesman   dealership  \\\n",
       "0  Corvette  2011      335.0     22.5  46135         2     Big Bobs   \n",
       "1  Corvette  2011      300.0     23.5  40650         2  Uptown Cars   \n",
       "2  Corvette  2011      300.0     24.0  36350         2  Uptown Cars   \n",
       "3  Corvette  2011      230.0     23.0  29450         2  Uptown Cars   \n",
       "4  Corvette  2011      230.0     23.0  34500         2  Uptown Cars   \n",
       "\n",
       "    sold_date  sold_month  \n",
       "0  2012-05-06           5  \n",
       "1  2011-05-16           5  \n",
       "2  2013-07-31           7  \n",
       "3  2014-07-05           7  \n",
       "4  2013-05-20           5  "
      ]
     },
     "execution_count": 10,
     "metadata": {},
     "output_type": "execute_result"
    }
   ],
   "source": [
    "df.head()"
   ]
  },
  {
   "cell_type": "markdown",
   "metadata": {},
   "source": [
    "Let's build out our box plot"
   ]
  },
  {
   "cell_type": "code",
   "execution_count": 11,
   "metadata": {},
   "outputs": [],
   "source": [
    "df_vet = df[df['car'] == 'Corvette']\n",
    "df_mustang = df[df['car'] == 'Mustang']\n",
    "df_camaro = df[df['car'] == 'Camaro']\n"
   ]
  },
  {
   "cell_type": "code",
   "execution_count": 13,
   "metadata": {},
   "outputs": [
    {
     "name": "stderr",
     "output_type": "stream",
     "text": [
      "/home/ec2-user/anaconda3/envs/python3/lib/python3.6/site-packages/numpy/core/fromnumeric.py:51: FutureWarning: reshape is deprecated and will raise in a subsequent release. Please use .values.reshape(...) instead\n",
      "  return getattr(obj, method)(*args, **kwds)\n"
     ]
    },
    {
     "data": {
      "image/png": "[encoded data removed]",
      "text/plain": [
       "<Figure size 432x288 with 1 Axes>"
      ]
     },
     "metadata": {},
     "output_type": "display_data"
    }
   ],
   "source": [
    "data = [df_camaro['engine_hp'], df_vet['engine_hp'], df_mustang['engine_hp']]\n",
    "plt.boxplot(data, vert=False)\n",
    "plt.title('Engine HP Box Plot')\n",
    "plt.xlabel('Engine HP')\n",
    "plt.yticks([1, 2, 3], ['Camaro', 'Corvette', 'Mustang'])\n",
    "plt.show()"
   ]
  },
  {
   "cell_type": "code",
   "execution_count": null,
   "metadata": {},
   "outputs": [],
   "source": []
  }
 ],
 "metadata": {
  "kernelspec": {
   "display_name": "Python 2",
   "language": "python",
   "name": "python2"
  },
  "language_info": {
   "codemirror_mode": {
    "name": "ipython",
    "version": 2
   },
   "file_extension": ".py",
   "mimetype": "text/x-python",
   "name": "python",
   "nbconvert_exporter": "python",
   "pygments_lexer": "ipython2",
   "version": "2.7.15"
  }
 },
 "nbformat": 4,
 "nbformat_minor": 2
}
